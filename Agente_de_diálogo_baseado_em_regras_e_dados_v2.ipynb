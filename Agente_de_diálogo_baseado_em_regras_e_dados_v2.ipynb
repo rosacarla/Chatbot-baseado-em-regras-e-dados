{
  "cells": [
    {
      "cell_type": "markdown",
      "metadata": {
        "id": "view-in-github",
        "colab_type": "text"
      },
      "source": [
        "<a href=\"https://colab.research.google.com/github/rosacarla/Chatbot-baseado-em-regras-e-dados/blob/main/Agente_de_di%C3%A1logo_baseado_em_regras_e_dados_v2.ipynb\" target=\"_parent\"><img src=\"https://colab.research.google.com/assets/colab-badge.svg\" alt=\"Open In Colab\"/></a>"
      ]
    },
    {
      "cell_type": "markdown",
      "metadata": {
        "id": "idIMZgaR3IqM"
      },
      "source": [
        "># AGENTE DE DIÁLOGO HÍBRIDO BASEADO EM REGRAS E DADOS\n",
        ">CURSO: Tecnólogo em Inteligência Artificial Aplicada  \n",
        ">DISCIPLINA: Agentes Conversacionais  \n",
        ">AUTORA: Carla Edila Silveira  \n",
        ">OBJETIVO: construir um agente de diálogo que trará ocorrências sobre determinado tema  \n",
        ">MELHORIA: obtenção de dados sobre o Brasil a partir de diferentes fontes  \n",
        ">DATA: 07/04/2025\n",
        "______________________________________________________________________\n",
        "\n",
        "<body>\n",
        "<center>\n",
        "<img src=\"https://i.postimg.cc/Pxs1B0cp/AGENTE-DIa-LOGO-hi-BRIDO-BASEADO-REGRAS-DADOS.jpg\" height=374 width=880  align=\"middle\">\n",
        "</center>\n",
        "</body>"
      ]
    },
    {
      "cell_type": "markdown",
      "metadata": {
        "id": "DDw6X5Dq3h_Z"
      },
      "source": [
        ">## 1. Qual o contexto do projeto?\n",
        "><p align=\"justify\">Um agente de diálogo de <i>question answering</i> que, baseado em um corpus de texto sobre um assunto, traz informações mais relevantes de acordo com a consulta do usuário.</p>"
      ]
    },
    {
      "cell_type": "markdown",
      "metadata": {
        "id": "0XlqXcfuAPbQ"
      },
      "source": [
        ">## 2. Quais ferramentas e técnicas adotar?\n",
        ">*   **NLTK** - toolkit de PLN em Python\n",
        ">*   **Expressões Regulares** - pacote de regex do Python\n",
        ">*   **urllib e BeautifulSoup** - bibliotecas para obter dados de páginas HTML\n",
        ">*   **scikit-learn** - pacote com funcionalidades de manipulação de dados e Machine Learning (serão utilizados TF-IDF e Similaridade de cosseno)\n",
        "\n"
      ]
    },
    {
      "cell_type": "markdown",
      "metadata": {
        "id": "rHKrJBjdBqw1"
      },
      "source": [
        "> ## 3. Construção do agente de diálogo\n",
        ">A operação do agente será deste modo:\n",
        ">1.   Recebe **entrada** do usuário.\n",
        ">2.   **Pré-processa** a entrada do usuário.\n",
        ">3.   Calcula a **similaridade** entre a entrada e as sentenças do corpus.\n",
        ">4.   Obtém a sentença **mais similar do corpus**.\n",
        ">5.   Mostra-a como **resposta** ao usuário.  \n",
        "\n",
        ">Antes destas etapas, será criado o corpus ao obter automaticamente dados da Wikipedia.\n"
      ]
    },
    {
      "cell_type": "markdown",
      "metadata": {
        "id": "qb2Dp_OFJAyO"
      },
      "source": [
        "> ## 4. Importação de bibliotecas\n",
        "> Importar pacote de expressões regulares do Python e acesso ao WordNet dado pelo NLTK."
      ]
    },
    {
      "cell_type": "code",
      "execution_count": 7,
      "metadata": {
        "colab": {
          "base_uri": "https://localhost:8080/"
        },
        "id": "FRDAwuHdJZoo",
        "outputId": "820947c3-bb0c-498a-bf7c-ed02fd6b4f7f"
      },
      "outputs": [
        {
          "output_type": "stream",
          "name": "stderr",
          "text": [
            "[nltk_data] Downloading package punkt to /root/nltk_data...\n",
            "[nltk_data]   Package punkt is already up-to-date!\n",
            "[nltk_data] Downloading package punkt_tab to /root/nltk_data...\n",
            "[nltk_data]   Unzipping tokenizers/punkt_tab.zip.\n",
            "[nltk_data] Downloading package rslp to /root/nltk_data...\n",
            "[nltk_data]   Package rslp is already up-to-date!\n",
            "[nltk_data] Downloading package stopwords to /root/nltk_data...\n",
            "[nltk_data]   Package stopwords is already up-to-date!\n"
          ]
        }
      ],
      "source": [
        "import nltk\n",
        "nltk.download('punkt')\n",
        "nltk.download('punkt_tab')\n",
        "nltk.download('rslp')# Stemming em pt-br\n",
        "from nltk.corpus import stopwords\n",
        "nltk.download('stopwords')# Lista de stopwords\n",
        "import numpy as np\n",
        "import random\n",
        "import string\n",
        "import requests\n",
        "from bs4 import BeautifulSoup\n",
        "import bs4 as bs\n",
        "import urllib.request\n",
        "import re\n",
        "import warnings\n",
        "warnings.filterwarnings(\"ignore\", category=DeprecationWarning)\n",
        "warnings.filterwarnings(\"ignore\", category=UserWarning)"
      ]
    },
    {
      "cell_type": "markdown",
      "metadata": {
        "id": "_iMVzxB8RB-F"
      },
      "source": [
        ">## 5. Construção do corpus\n",
        "><p align=\"justify\">Será feito um <i>web-scraping</i> para obter os dados automaticamente da Wikipedia. Este processo deve ser executado só uma vez, e o arquivo salvo em forma de texto na máquina.</p>"
      ]
    },
    {
      "cell_type": "code",
      "execution_count": 8,
      "metadata": {
        "colab": {
          "base_uri": "https://localhost:8080/"
        },
        "id": "9UPAfE57RCIu",
        "outputId": "c4590c62-4bb5-4511-c933-8b8e00be9acf"
      },
      "outputs": [
        {
          "output_type": "stream",
          "name": "stdout",
          "text": [
            "\n",
            "\n",
            "brasil (localmente [bɾaˈziw][c]), oficialmente república federativa do brasil (escutarⓘ),[12] é o maior país da américa do sul e da região da américa latina, sendo o quinto maior do mundo em área territorial (equivalente a 47,3% do território sul-americano), com cerca de 8,5 milhões de quilômetros quadrados,[5][13][14] e o sétimo em população[15][16] (com 212 milhões de habitantes, em julho de 2024).[17] é o único país na américa onde se fala majoritariamente a língua portuguesa e o maior país lusófono do planeta,[18] além de ser uma das nações mais multiculturais e etnicamente diversas, em decorrência da forte imigração oriunda de variados locais do mundo. sua atual constituição, promulgada em 1988, concebe o brasil como uma república federativa presidencialista,[12] formada pela união de 26 estados, do distrito federal e dos 5 571 municípios.[12][19][nota 1]\n",
            "\n",
            "banhado pelo oceano atlântico, o brasil tem um litoral de 7 491 km[18] e faz fronteira com todos os outros países sul-americ\n"
          ]
        }
      ],
      "source": [
        "# Busca paginas sobre o BRASIL. Para mudar o tema basta colocar o link para outra pagina.\n",
        "# É possivel obter dados de páginas diferentes, basta definir uma lista de links e iterar sobre elas.\n",
        "\n",
        "# Lista de URLs para consulta\n",
        "urls = ['https://pt.wikipedia.org/wiki/Brasil',\n",
        "        'https://brasilescola.uol.com.br/geografia/pais-brasil.htm',\n",
        "        'https://agenciabrasil.ebc.com.br/geral/noticia/2025-03/acordo-garante-reparacao-comunidades-indigenas-ava-guarani',\n",
        "        'https://www.bbc.com/portuguese/articles/cw56kkzgnq6o',\n",
        "        'https://www.bbc.com/portuguese/articles/c3gjpmvkv5eo',\n",
        "        'https://www.bbc.com/portuguese/articles/c51qdpqxneno',\n",
        "        'https://www.bbc.com/portuguese/articles/cj79kpjlp59o',\n",
        "        'https://www.observatoriodasmetropoles.net.br/ibge-apresenta-os-primeiros-resultados-do-censo-2022/'\n",
        "\n",
        "]\n",
        "\n",
        "# Inicializa string para armazenar o texto\n",
        "texto = ''\n",
        "\n",
        "# Itera sobre URLs\n",
        "for url in urls:\n",
        "    try:\n",
        "        # Solicita HTTP para obter conteudo da pagina\n",
        "        codigo_html = urllib.request.urlopen(url)\n",
        "\n",
        "        # Le conteudo da pagina\n",
        "        codigo_html = codigo_html.read()\n",
        "\n",
        "        # Processa codigo HTML lido\n",
        "        html_processado = BeautifulSoup(codigo_html, 'html.parser')\n",
        "\n",
        "        # Busca todos os paragrafos do texto\n",
        "        paragrafos = html_processado.find_all('p')\n",
        "\n",
        "        # Concatena os textos dos paragrafos\n",
        "        for p in paragrafos:\n",
        "            texto += p.text + '\\n'\n",
        "\n",
        "    except Exception as e:\n",
        "        print(f'Erro ao processar a página {url}: {str(e)}')\n",
        "\n",
        "# Normaliza texto para minusculas\n",
        "texto = texto.lower()\n",
        "\n",
        "# Imprime primeiros 1000 caracteres do texto\n",
        "print(texto[:1000])"
      ]
    },
    {
      "cell_type": "markdown",
      "metadata": {
        "id": "AjAXpxbwT5IB"
      },
      "source": [
        ">## 6. Pré-processamento do corpus\n",
        "> É necessário remover caracteres especiais do texto e dividí-lo em sentenças válidas."
      ]
    },
    {
      "cell_type": "code",
      "execution_count": 9,
      "metadata": {
        "colab": {
          "base_uri": "https://localhost:8080/",
          "height": 126
        },
        "id": "XS7MKMOCT5XM",
        "outputId": "b4a8e2ce-f012-4bec-b503-024a08fd5e74"
      },
      "outputs": [
        {
          "output_type": "execute_result",
          "data": {
            "text/plain": [
              "' brasil (localmente [bɾaˈziw][c]), oficialmente república federativa do brasil (escutarⓘ), é o maior país da américa do sul e da região da américa latina, sendo o quinto maior do mundo em área territorial (equivalente a 47,3% do território sul-americano), com cerca de 8,5 milhões de quilômetros quadrados, e o sétimo em população (com 212 milhões de habitantes, em julho de 2024). é o único país na américa onde se fala majoritariamente a língua portuguesa e o maior país lusófono do planeta, além de ser uma das nações mais multiculturais e etnicamente diversas, em decorrência da forte imigração oriunda de variados locais do mundo. sua atual constituição, promulgada em 1988, concebe o brasil como uma república federativa presidencialista, formada pela união de 26 estados, do distrito federal e dos 5 571 municípios. [nota 1] banhado pelo oceano atlântico, o brasil tem um litoral de 7 491 km e faz fronteira com todos os outros países sul-americanos, exceto chile e equador, sendo limitado a n'"
            ],
            "application/vnd.google.colaboratory.intrinsic+json": {
              "type": "string"
            }
          },
          "metadata": {},
          "execution_count": 9
        }
      ],
      "source": [
        "texto = re.sub(r'\\[[0-9]*\\]', ' ', texto)\n",
        "texto = re.sub(r'\\s+', ' ', texto)\n",
        "texto[0:1000]"
      ]
    },
    {
      "cell_type": "code",
      "execution_count": 10,
      "metadata": {
        "colab": {
          "base_uri": "https://localhost:8080/"
        },
        "id": "2FGlLHzSUU7N",
        "outputId": "c06e6d48-6aed-42e7-f46a-b110c412accd"
      },
      "outputs": [
        {
          "output_type": "execute_result",
          "data": {
            "text/plain": [
              "['em 1815, o brasil se torna parte de um reino unido com portugal.',\n",
              " 'dom pedro i, o primeiro imperador, proclamou a independência política do país em 1822. inicialmente independente como um império, período no qual foi uma monarquia constitucional parlamentarista, o brasil tornou-se uma república em 1889, em razão de um golpe militar chefiado pelo marechal deodoro da fonseca (o primeiro presidente), embora uma legislatura bicameral, agora chamada de congresso nacional, já existisse desde a ratificação da primeira constituição, em 1824. desde o início do período republicano, a governança democrática foi interrompida por longos períodos de regimes autoritários, até um governo civil e eleito democraticamente assumir o poder em 1985, com o fim da ditadura militar.',\n",
              " 'como potência regional e média, a nação tem reconhecimento e influência internacional, sendo que também é classificada como uma potência global emergente e como uma potencial superpotência por vários analistas.',\n",
              " 'o pib nominal brasileiro é o nono maior do mundo e o oitavo por paridade do poder de compra (ppc), sendo, em ambos, o maior da américa latina e do hemisfério sul.',\n",
              " 'o país é um dos principais celeiros do planeta, sendo o maior produtor de café dos últimos 150 anos, além de ser classificado como uma economia de renda média-alta pelo banco mundial e como um país recentemente industrializado, que detém a maior parcela de riqueza global e a ecomomia mais complexa da américa do sul.']"
            ]
          },
          "metadata": {},
          "execution_count": 10
        }
      ],
      "source": [
        "sentencas = nltk.sent_tokenize(texto, language='portuguese')\n",
        "palavras = nltk.word_tokenize(texto, language='portuguese')\n",
        "sentencas[10:15]"
      ]
    },
    {
      "cell_type": "markdown",
      "metadata": {
        "id": "65nR3LBTVmy0"
      },
      "source": [
        ">## 7. Funções de pré-processamento de entrada do usuário\n",
        "><p align=\"justify\">Cria funções para pré-processar as entradas do usuário, com retirada de  pontuações e uso de Stemming nos textos, para que palavras similares sejam processadas igualmente pelo algoritmo (por ex., pedra e pedregulho teriam mesma forma léxica).</p>"
      ]
    },
    {
      "cell_type": "code",
      "source": [
        "# Instala biblioteca unidecode para eliminar acentuacao de palavras em Python\n",
        "%pip install unidecode"
      ],
      "metadata": {
        "colab": {
          "base_uri": "https://localhost:8080/"
        },
        "id": "trGevsNDyXoq",
        "outputId": "389aaa8a-0573-4d55-b23c-7dd3f0af802c"
      },
      "execution_count": 11,
      "outputs": [
        {
          "output_type": "stream",
          "name": "stdout",
          "text": [
            "Collecting unidecode\n",
            "  Downloading Unidecode-1.3.8-py3-none-any.whl.metadata (13 kB)\n",
            "Downloading Unidecode-1.3.8-py3-none-any.whl (235 kB)\n",
            "\u001b[?25l   \u001b[90m━━━━━━━━━━━━━━━━━━━━━━━━━━━━━━━━━━━━━━━━\u001b[0m \u001b[32m0.0/235.5 kB\u001b[0m \u001b[31m?\u001b[0m eta \u001b[36m-:--:--\u001b[0m\r\u001b[2K   \u001b[91m━━━━━━━━━━━━━━━━━━━━━━━━\u001b[0m\u001b[90m╺\u001b[0m\u001b[90m━━━━━━━━━━━━━━━\u001b[0m \u001b[32m143.4/235.5 kB\u001b[0m \u001b[31m4.9 MB/s\u001b[0m eta \u001b[36m0:00:01\u001b[0m\r\u001b[2K   \u001b[90m━━━━━━━━━━━━━━━━━━━━━━━━━━━━━━━━━━━━━━━━\u001b[0m \u001b[32m235.5/235.5 kB\u001b[0m \u001b[31m4.7 MB/s\u001b[0m eta \u001b[36m0:00:00\u001b[0m\n",
            "\u001b[?25hInstalling collected packages: unidecode\n",
            "Successfully installed unidecode-1.3.8\n"
          ]
        }
      ]
    },
    {
      "cell_type": "code",
      "source": [
        "# Importa biblioteca unicode\n",
        "from unidecode import unidecode"
      ],
      "metadata": {
        "id": "Clv-OzSHzCie"
      },
      "execution_count": 12,
      "outputs": []
    },
    {
      "cell_type": "code",
      "execution_count": 13,
      "metadata": {
        "id": "FjMnCjqfVm6N"
      },
      "outputs": [],
      "source": [
        "# Define funcao que faz Stemming em todo texto\n",
        "def stemming(tokens):\n",
        "  stemmer = nltk.stem.RSLPStemmer()\n",
        "  novotexto = []\n",
        "  for token in tokens:\n",
        "    novotexto.append(stemmer.stem(token.lower()))\n",
        "  return novotexto\n",
        "\n",
        "# Funcao que remove pontuacao, stopwords e aplica stemming\n",
        "def preprocessa(documento):\n",
        "  # Remove pontuacao\n",
        "  documento = documento.translate(str.maketrans('', '', string.punctuation))\n",
        "\n",
        "  # Remove acentos\n",
        "  documento = unidecode(documento)\n",
        "\n",
        "  # Tokenizacao de palavras\n",
        "  tokens = nltk.word_tokenize(documento, language='portuguese')\n",
        "\n",
        "  # Remove stopwords\n",
        "  stopwords_pt = set(stopwords.words('portuguese'))\n",
        "  tokens = [token.lower() for token in tokens if token.lower() not in stopwords_pt]\n",
        "\n",
        "  # Aplica stemming\n",
        "  tokens = stemming(tokens)\n",
        "\n",
        "  return tokens"
      ]
    },
    {
      "cell_type": "code",
      "execution_count": 14,
      "metadata": {
        "colab": {
          "base_uri": "https://localhost:8080/"
        },
        "id": "UysIjiIPW6nT",
        "outputId": "b8886037-4f69-4b66-f64b-42066c51d524"
      },
      "outputs": [
        {
          "output_type": "execute_result",
          "data": {
            "text/plain": [
              "['ola', 'nom', 'luc', 'mor', 'brasil', 'voc']"
            ]
          },
          "metadata": {},
          "execution_count": 14
        }
      ],
      "source": [
        "# Conferir como fica um texto apos seu pre processamento\n",
        "preprocessa(\"Olá meu nome é Lucas, eu moro no Brasil, e você?\")"
      ]
    },
    {
      "cell_type": "markdown",
      "metadata": {
        "id": "vUL4YvxMYMVc"
      },
      "source": [
        ">## 8. Resposta a saudações\n",
        "><p align=\"justify\">Embora seja um sistema de diálogo baseado em tarefas, é provável que o usuário inicie conversas com saudações ao agente. Por isso, será desenvolvida uma função (regras) para tratar desta situação.</p>  \n",
        "><p align=\"justify\">Serão criado grupos de respostas possíveis, dentre as quais serão escolhidas algumas aleatoriamente, para evitar que o agente fique repetitivo.</p>"
      ]
    },
    {
      "cell_type": "code",
      "execution_count": 15,
      "metadata": {
        "id": "WJNLddZgYMeg"
      },
      "outputs": [],
      "source": [
        "saudacoes_entrada = (\"olá\", \"bom dia\", \"boa tarde\", \"boa noite\", \"oi\", \"como vai\", \"e aí\", \"tudo bem\")\n",
        "saudacoes_respostas = [\"olá\", \"olá, espero que esteja tudo bem contigo\", \"Olá! Como posso ajudar você hoje?\", \"oi\", \"Oie\",\n",
        "                       \"Seja bem-vindo, em que posso te ajudar?\", \"Oi! Estou à disposição para responder às suas perguntas.\",\n",
        "                       \"Olá! Estou aqui para fornecer informações sobre o Brasil. O que você gostaria de saber?\",\n",
        "                       \"Oi! Bem-vindo! O que você deseja saber sobre o Brasil?\"]\n",
        "\n",
        "# Funcao para responder a saudacao\n",
        "def geradorsaudacoes(saudacao):\n",
        "    for token in saudacao.split():\n",
        "        if token.lower() in saudacoes_entrada:\n",
        "            return random.choice(saudacoes_respostas)\n",
        "\n",
        "    # Se nenhuma saudacao conhecida for encontrada, retorna None\n",
        "    return None"
      ]
    },
    {
      "cell_type": "code",
      "execution_count": 16,
      "metadata": {
        "colab": {
          "base_uri": "https://localhost:8080/",
          "height": 36
        },
        "id": "XzW0X0iLZjBU",
        "outputId": "983205fc-c92b-496e-d052-091bbb9cb67b"
      },
      "outputs": [
        {
          "output_type": "execute_result",
          "data": {
            "text/plain": [
              "'Seja bem-vindo, em que posso te ajudar?'"
            ],
            "application/vnd.google.colaboratory.intrinsic+json": {
              "type": "string"
            }
          },
          "metadata": {},
          "execution_count": 16
        }
      ],
      "source": [
        "# Ao reexecutar este exemplo serao vistas respostas diferentes\n",
        "geradorsaudacoes('Olá')"
      ]
    },
    {
      "cell_type": "markdown",
      "metadata": {
        "id": "Z_gdo4tjZ3X4"
      },
      "source": [
        ">## 9. Resposta a consultas do usuário\n",
        "><p align=\"justify\">Função para tratar consultas do usuário, com a comparação da similaridade entre a entrada do usuário e as sentenças do corpus. Se houver, a sentença mais similar será mostrada como resposta.</p>\n",
        "><p align=\"justify\">Nesta função utilizam-se os algoritmos TD-IDF (<i>Term Frequency – Inverse Document Frequency</i>) e similaridade de cosseno.</p>"
      ]
    },
    {
      "cell_type": "code",
      "execution_count": 17,
      "metadata": {
        "id": "zITJfxB0Z3ee"
      },
      "outputs": [],
      "source": [
        "from sklearn.feature_extraction.text import TfidfVectorizer\n",
        "from sklearn.metrics.pairwise import cosine_similarity"
      ]
    },
    {
      "cell_type": "code",
      "execution_count": 18,
      "metadata": {
        "id": "DczIGmyUaPMr"
      },
      "outputs": [],
      "source": [
        "# Funcao para responder a consultas do usuario\n",
        "def geradorrespostas(entradausuario): # testar com sentencas\n",
        "  resposta = ''\n",
        "  sentencas.append(entradausuario)\n",
        "\n",
        "  word_vectorizer = TfidfVectorizer(tokenizer=preprocessa, stop_words=stopwords.words('portuguese'))\n",
        "  all_word_vectors = word_vectorizer.fit_transform(sentencas)\n",
        "  similar_vector_values = cosine_similarity(all_word_vectors[-1], all_word_vectors)\n",
        "  similar_sentence_number = similar_vector_values.argsort()[0][-2]\n",
        "\n",
        "  matched_vector = similar_vector_values.flatten()\n",
        "  matched_vector.sort()\n",
        "  vector_matched = matched_vector[-2]\n",
        "\n",
        "  if vector_matched == 0:\n",
        "    resposta = resposta + \"Me desculpe, não entendi o que você pediu.\"\n",
        "    return resposta\n",
        "  else:\n",
        "    resposta = resposta + sentencas[similar_sentence_number]\n",
        "    return resposta"
      ]
    },
    {
      "cell_type": "markdown",
      "metadata": {
        "id": "3VQILIt-bgJ8"
      },
      "source": [
        ">## 10. Interação com o agente de diálogo\n",
        "><p align=\"justify\">Define um algoritmo que continue interagindo com o usuário até que ele decida finalizar.</p>  \n",
        "><p align=\"justify\">O resultado não é sempre o ideal, porém cobre muitas das possíveis perguntas. Se utilizássemos apenas regras de diálogo para responder perguntas sobre um assunto, precisaríamos de centenas de regras.</p>\n",
        "><p align=\"justify\"> Como as respostas são baseadas em dados, apenas uma regra que calcula similaridade com o corpus é suficiente. Faça perguntas como:</p>  \n",
        "\n",
        ">*  *Qual o esporte mais popular no Brasil?*\n",
        ">*  *Quais eventos esportivos o Brasil já organizou?*\n",
        ">*  *Como é a cozinha brasileira?*  \n",
        ">*  *As comunidades indígenas possuem terras demarcadas no Brasil?*\n",
        ">*  *Onde são realizadas pesquisas tecnológicas no Brasil?*\n"
      ]
    },
    {
      "cell_type": "code",
      "execution_count": 20,
      "metadata": {
        "colab": {
          "base_uri": "https://localhost:8080/"
        },
        "id": "VMIT3KygbgTe",
        "outputId": "0a27de93-6109-4c0d-f4b9-b78da1dc6f98"
      },
      "outputs": [
        {
          "output_type": "stream",
          "name": "stdout",
          "text": [
            "Olá, eu sou o Agente Tupiniquim. Me pergunte qualquer coisa sobre nosso país ou diga 'tchau' para sair.\n",
            "Qual o esporte mais popular no Brasil?\n",
            "Agente Tupiniquim: o futebol é o esporte mais popular no brasil.\n",
            "Quais eventos esportivos o Brasil já organizou?\n",
            "Agente Tupiniquim: no automobilismo, pilotos brasileiros ganharam o campeonato mundial de fórmula 1 oito vezes: emerson fittipaldi, em 1972 e 1974; nelson piquet, em 1981, 1983 e 1987; e ayrton senna, em 1988, 1990 e 1991. o circuito localizado em são paulo, autódromo josé carlos pace, organiza anualmente o grande prêmio do brasil de fórmula 1. o brasil já organizou eventos esportivos de grande escala: sediou as copas do mundo de 1950, na qual foi o vice-campeão, e 2014, quando ficou em quarto lugar.\n",
            "Como é a cozinha brasileira?\n",
            "Agente Tupiniquim: isto criou uma cozinha nacional marcada pela preservação das diferenças regionais.\n",
            "As comunidades indígenas possuem terras demarcadas no Brasil?\n",
            "Agente Tupiniquim: as populações indígenas habitavam as terras que ficariam conhecidas como brasil muito antes dos colonizadores chegarem à américa do sul.\n",
            "Onde são realizadas pesquisas tecnológicas no Brasil?\n",
            "Agente Tupiniquim: a pesquisa tecnológica no brasil é em grande parte realizada em universidades públicas e institutos de pesquisa.\n",
            "tchau\n",
            "Agente Tupiniquim: Até a próxima!\n"
          ]
        }
      ],
      "source": [
        "# Inicia interacao com usuario\n",
        "print(\"Olá, eu sou o Agente Tupiniquim. Me pergunte qualquer coisa sobre nosso país ou diga 'tchau' para sair.\")\n",
        "continue_dialogue = True\n",
        "while continue_dialogue:\n",
        "  # Obtem entrada do usuario\n",
        "  human_text = input().lower()\n",
        "\n",
        "  if human_text != 'tchau':\n",
        "    if human_text == 'obrigado' or human_text == 'muito obrigado' or human_text == 'agradecido' or human_text == 'valeu':\n",
        "      continue_dialogue = False\n",
        "      print(\"Agente Tupiniquim: Disponha!\")\n",
        "    else:\n",
        "      if geradorsaudacoes(human_text) != None:\n",
        "        print(\"Agente Tupiniquim: \" + geradorsaudacoes(human_text))\n",
        "      else:\n",
        "        print(\"Agente Tupiniquim: \", end=\"\")\n",
        "        print(geradorrespostas(human_text))\n",
        "        sentencas.remove(human_text)\n",
        "  else:\n",
        "    continue_dialogue = False\n",
        "    print(\"Agente Tupiniquim: Até a próxima!\")"
      ]
    },
    {
      "cell_type": "markdown",
      "metadata": {
        "id": "0JMOce1PXp1h"
      },
      "source": [
        ">## 11. Como melhorar o projeto?\n",
        "><p align=\"justify\">Este agente de diálogo adota um modelo baseado em regras. Uma das regras utiliza corpus de dados para formular respostas. Assim, o modelo se torna mais flexível, sem necessidade da criação de centenas/milhares de regras. Vejamos como o projeto pode ser melhorado:</p>  \n",
        "><p align=\"justify\">A) Além dos parágrafos (tag \"p\") da página da Wikipedia, podem ser usados dados dispostos na coluna direita, que trazem informações relevantes, como população, atual presidente etc., para montar sentenças.</p>  \n",
        "><p align=\"justify\">B) Melhorar o cálculo de similaridade com uso de um modelo de Word Embeddings, além do TF-IDF.</p>\n",
        "><p align=\"justify\">C) Obter dados sobre o Brasil a partir de diferentes fontes. - OK!</p>\n",
        "><p align=\"justify\">D) Criar classificador de contexto para o agente e, de modo dinâmico, buscar páginas da Wikipedia correspondentes à pergunta do usuário, para depois dar a resposta. Desse modo o agente não se limitaria a perguntas sobre o Brasil.</p>\n",
        "\n"
      ]
    },
    {
      "cell_type": "markdown",
      "metadata": {
        "id": "vP59ECc53nqF"
      },
      "source": [
        ">## 12. Referências e material complementar  \n",
        ">* [Python for NLP: Creating a Rule-Based Chatbot](https://stackabuse.com/python-for-nlp-creating-a-rule-based-chatbot/)\n",
        ">* [Building a Simple Chatbot from Scratch in Python (using NLTK)](https://morioh.com/p/6cc33336784c)\n",
        ">* [Building a simple chatbot in python](https://medium.com/nxtplus/building-a-simple-chatbot-in-python-3963618c490a)\n",
        ">* [Designing A ChatBot Using Python: A Modified Approach](https://towardsdatascience.com/designing-a-chatbot-using-python-a-modified-approach-96f09fd89c6d)\n",
        ">* [Build Your First Python Chatbot Project](https://dzone.com/articles/python-chatbot-project-build-your-first-python-pro)\n",
        ">* [Python Chatbot Project – Learn to build your first chatbot using NLTK & Keras](https://data-flair.training/blogs/python-chatbot-project/)\n",
        ">* [Python Chat Bot Tutorial - Chatbot with Deep Learning (Part 1)](https://www.youtube.com/watch?v=wypVcNIH6D4)\n",
        ">* [Intelligent AI Chatbot in Python](https://www.youtube.com/watch?v=1lwddP0KUEg)\n",
        ">* [Coding a Jarvis AI Using Python 3 For Beginners](https://www.youtube.com/watch?v=NZMTWBpLUa4)  \n",
        ">* Projeto elaborado a partir de Notebook criado por Prof. [Lucas Oliveira](http://lattes.cnpq.br/3611246009892500)."
      ]
    }
  ],
  "metadata": {
    "colab": {
      "provenance": [],
      "include_colab_link": true
    },
    "kernelspec": {
      "display_name": "Python 3",
      "name": "python3"
    }
  },
  "nbformat": 4,
  "nbformat_minor": 0
}