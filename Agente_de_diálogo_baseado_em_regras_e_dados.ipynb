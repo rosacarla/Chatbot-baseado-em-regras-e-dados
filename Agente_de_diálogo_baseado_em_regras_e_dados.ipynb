{
  "nbformat": 4,
  "nbformat_minor": 0,
  "metadata": {
    "colab": {
      "provenance": [],
      "include_colab_link": true
    },
    "kernelspec": {
      "name": "python3",
      "display_name": "Python 3"
    }
  },
  "cells": [
    {
      "cell_type": "markdown",
      "metadata": {
        "id": "view-in-github",
        "colab_type": "text"
      },
      "source": [
        "<a href=\"https://colab.research.google.com/github/rosacarla/chatbot-baseado-em-regras-e-dados/blob/main/Agente_de_di%C3%A1logo_baseado_em_regras_e_dados.ipynb\" target=\"_parent\"><img src=\"https://colab.research.google.com/assets/colab-badge.svg\" alt=\"Open In Colab\"/></a>"
      ]
    },
    {
      "cell_type": "markdown",
      "metadata": {
        "id": "idIMZgaR3IqM"
      },
      "source": [
        "># AGENTE DE DIÁLOGO HÍBRIDO BASEADO EM REGRAS E DADOS\n",
        ">CURSO: Tecnólogo em Inteligência Artificial Aplicada  \n",
        ">DISCIPLINA: Agentes Conversacionais  \n",
        ">AUTORA: Carla Edila Silveira  \n",
        ">OBJETIVO: construir um agente de diálogo que trará ocorrências sobre determinado tema  \n",
        "> DATA: 05/09/2023\n",
        "______________________________________________________________________\n",
        "\n",
        "<body>\n",
        "<center>\n",
        "<img src=\"https://i.postimg.cc/0Q7ZcBm7/header.png\" align=\"middle\">\n",
        "</center>\n",
        "</body>"
      ]
    },
    {
      "cell_type": "markdown",
      "metadata": {
        "id": "DDw6X5Dq3h_Z"
      },
      "source": [
        ">## 1. Qual o contexto do projeto?\n",
        "><p align=\"justify\">Um agente de diálogo de <i>question answering</i> que, baseado em um corpus de texto sobre um assunto, traz informações mais relevantes de acordo com a consulta do usuário.</p>"
      ]
    },
    {
      "cell_type": "markdown",
      "metadata": {
        "id": "0XlqXcfuAPbQ"
      },
      "source": [
        ">## 2. Quais ferramentas e técnicas adotar?\n",
        ">*   **NLTK** - toolkit de PLN em Python\n",
        ">*   **Expressões Regulares** - pacote de regex do Python\n",
        ">*   **urllib e BeautifulSoup** - bibliotecas para obter dados de páginas HTML\n",
        ">*   **scikit-learn** - pacote com funcionalidades de manipulação de dados e Machine Learning (serão utilizados TF-IDF e Similaridade de cosseno)\n",
        "\n"
      ]
    },
    {
      "cell_type": "markdown",
      "metadata": {
        "id": "rHKrJBjdBqw1"
      },
      "source": [
        "> ## 3. Construção do agente de diálogo\n",
        ">A operação do agente será deste modo:\n",
        ">1.   Recebe **entrada** do usuário\n",
        ">2.   **Pré-processa** a entrada do usuário\n",
        ">3.   Calcula a **similaridade** entre a entrada e as sentenças do corpus\n",
        ">4.   Obtém a sentença **mais similar do corpus**\n",
        ">5.   Mostra-a como **resposta** ao usuário  \n",
        "\n",
        ">Antes destas etapas, será criado o corpus ao obter automaticamente dados da Wikipedia.\n"
      ]
    },
    {
      "cell_type": "markdown",
      "metadata": {
        "id": "qb2Dp_OFJAyO"
      },
      "source": [
        "> ## 4. Importação de bibliotecas\n",
        "> Importar pacote de expressões regulares do Python e acesso ao WordNet dado pelo NLTK."
      ]
    },
    {
      "cell_type": "code",
      "metadata": {
        "id": "FRDAwuHdJZoo",
        "outputId": "09aaf87f-449a-4c8e-82e8-730377df07f5",
        "colab": {
          "base_uri": "https://localhost:8080/"
        }
      },
      "source": [
        "import nltk\n",
        "nltk.download('punkt')\n",
        "nltk.download('rslp')# Stemming em pt-br\n",
        "from nltk.corpus import stopwords\n",
        "nltk.download('stopwords')# Lista de stopwords\n",
        "import numpy as np\n",
        "import random\n",
        "import string\n",
        "import bs4 as bs\n",
        "import urllib.request\n",
        "import re\n",
        "import warnings\n",
        "warnings.filterwarnings(\"ignore\", category=DeprecationWarning)\n",
        "warnings.filterwarnings(\"ignore\", category=UserWarning)"
      ],
      "execution_count": 1,
      "outputs": [
        {
          "output_type": "stream",
          "name": "stderr",
          "text": [
            "[nltk_data] Downloading package punkt to /root/nltk_data...\n",
            "[nltk_data]   Unzipping tokenizers/punkt.zip.\n",
            "[nltk_data] Downloading package rslp to /root/nltk_data...\n",
            "[nltk_data]   Unzipping stemmers/rslp.zip.\n",
            "[nltk_data] Downloading package stopwords to /root/nltk_data...\n",
            "[nltk_data]   Unzipping corpora/stopwords.zip.\n"
          ]
        }
      ]
    },
    {
      "cell_type": "markdown",
      "metadata": {
        "id": "_iMVzxB8RB-F"
      },
      "source": [
        ">## 5. Construção do corpus\n",
        "><p align=\"justify\">Será feito um <i>web-scraping</i> para obter os dados automaticamente da Wikipedia. Este processo deve ser executado só uma vez, e o arquivo salvo em forma de texto na máquina.</p>"
      ]
    },
    {
      "cell_type": "code",
      "metadata": {
        "id": "9UPAfE57RCIu",
        "colab": {
          "base_uri": "https://localhost:8080/",
          "height": 139
        },
        "outputId": "8e9b4384-6a28-4cd6-8a2e-03d7cee1c543"
      },
      "source": [
        "# Busca pagina sobre o BRASIL. Para mudar o tema basta colocar o link para outra pagina.\n",
        "# É possivel obter dados de páginas diferentes, basta definir uma lista de links e iterar sobre elas.\n",
        "codigo_html = urllib.request.urlopen('https://pt.wikipedia.org/wiki/Brasil')\n",
        "codigo_html = codigo_html.read()\n",
        "\n",
        "# Processa codigo HTML lido\n",
        "html_processado = bs.BeautifulSoup(codigo_html, 'lxml')\n",
        "\n",
        "# Busca todos os paragrafos do texto\n",
        "paragrafos = html_processado.find_all('p')\n",
        "\n",
        "texto = ''\n",
        "\n",
        "# Percorre paragrafos e concatena textos\n",
        "for p in paragrafos:\n",
        "  texto += p.text\n",
        "\n",
        "# Normaliza texto para minusculas\n",
        "texto = texto.lower()\n",
        "texto[0:1000]"
      ],
      "execution_count": 2,
      "outputs": [
        {
          "output_type": "execute_result",
          "data": {
            "text/plain": [
              "'coordenadas: 10° s 55° obrasil (localmente\\xa0[bɾaˈziw][b]), oficialmente república federativa do brasil (?\\xa0escutar),[7] é o maior país da américa do sul e da região da américa latina, sendo o quinto maior do mundo em área territorial (equivalente a 47,3% do território sul-americano), com 8\\xa0510\\xa0417,771 km²,[1][8][9] e o sétimo em população[10][11] (com 203 milhões de habitantes, em agosto de 2022).[12] é o único país na américa onde se fala majoritariamente a língua portuguesa e o maior país lusófono do planeta,[13] além de ser uma das nações mais multiculturais e etnicamente diversas, em decorrência da forte imigração oriunda de variados locais do mundo. sua atual constituição, promulgada em 1988, concebe o brasil como uma república federativa presidencialista,[7] formada pela união dos 26 estados, do distrito federal e dos 5\\xa0570 municípios.[7][14][nota 1]\\nbanhado pelo oceano atlântico, o brasil tem um litoral de 7\\xa0491\\xa0km[13] e faz fronteira com todos os outros países sul-americanos, exc'"
            ],
            "application/vnd.google.colaboratory.intrinsic+json": {
              "type": "string"
            }
          },
          "metadata": {},
          "execution_count": 2
        }
      ]
    },
    {
      "cell_type": "markdown",
      "metadata": {
        "id": "AjAXpxbwT5IB"
      },
      "source": [
        ">## 6. Pré-processamento do corpus\n",
        "> É necessário remover caracteres especiais do texto e dividí-lo em sentenças válidas."
      ]
    },
    {
      "cell_type": "code",
      "metadata": {
        "id": "XS7MKMOCT5XM",
        "colab": {
          "base_uri": "https://localhost:8080/",
          "height": 139
        },
        "outputId": "38324b27-f19b-446f-af88-b29b4fbc3740"
      },
      "source": [
        "texto = re.sub(r'\\[[0-9]*\\]', ' ', texto)\n",
        "texto = re.sub(r'\\s+', ' ', texto)\n",
        "texto[0:1000]"
      ],
      "execution_count": 3,
      "outputs": [
        {
          "output_type": "execute_result",
          "data": {
            "text/plain": [
              "'coordenadas: 10° s 55° obrasil (localmente [bɾaˈziw][b]), oficialmente república federativa do brasil (? escutar), é o maior país da américa do sul e da região da américa latina, sendo o quinto maior do mundo em área territorial (equivalente a 47,3% do território sul-americano), com 8 510 417,771 km², e o sétimo em população (com 203 milhões de habitantes, em agosto de 2022). é o único país na américa onde se fala majoritariamente a língua portuguesa e o maior país lusófono do planeta, além de ser uma das nações mais multiculturais e etnicamente diversas, em decorrência da forte imigração oriunda de variados locais do mundo. sua atual constituição, promulgada em 1988, concebe o brasil como uma república federativa presidencialista, formada pela união dos 26 estados, do distrito federal e dos 5 570 municípios. [nota 1] banhado pelo oceano atlântico, o brasil tem um litoral de 7 491 km e faz fronteira com todos os outros países sul-americanos, exceto chile e equador, sendo limitado a nor'"
            ],
            "application/vnd.google.colaboratory.intrinsic+json": {
              "type": "string"
            }
          },
          "metadata": {},
          "execution_count": 3
        }
      ]
    },
    {
      "cell_type": "code",
      "metadata": {
        "id": "2FGlLHzSUU7N",
        "colab": {
          "base_uri": "https://localhost:8080/"
        },
        "outputId": "bd375df7-f2e3-4083-9876-3be6e99ac1ae"
      },
      "source": [
        "sentencas = nltk.sent_tokenize(texto, language='portuguese')\n",
        "palavras = nltk.word_tokenize(texto, language='portuguese')\n",
        "sentencas[10:15]"
      ],
      "execution_count": 4,
      "outputs": [
        {
          "output_type": "execute_result",
          "data": {
            "text/plain": [
              "['o vínculo colonial foi rompido, de fato, quando em 1808 a capital do reino foi transferida de lisboa para a cidade do rio de janeiro, depois de tropas francesas comandadas por napoleão bonaparte invadirem o território português.',\n",
              " 'em 1815, o brasil se torna parte de um reino unido com portugal.',\n",
              " 'dom pedro i, o primeiro imperador, proclamou a independência política do país em 1822. inicialmente independente como um império, período no qual foi uma monarquia constitucional parlamentarista, o brasil tornou-se uma república em 1889, em razão de um golpe militar chefiado pelo marechal deodoro da fonseca (o primeiro presidente), embora uma legislatura bicameral, agora chamada de congresso nacional, já existisse desde a ratificação da primeira constituição, em 1824. desde o início do período republicano, a governança democrática foi interrompida por longos períodos de regimes autoritários, até um governo civil e eleito democraticamente assumir o poder em 1985, com o fim da ditadura militar.',\n",
              " 'como potência regional e média, a nação tem reconhecimento e influência internacional, sendo que também é classificada como uma potência global emergente e como uma potencial superpotência por vários analistas.',\n",
              " 'o pib nominal brasileiro foi o décimo segundo maior do mundo e o oitavo por paridade do poder de compra (ppc) em 2020. o país é um dos principais celeiros do planeta, sendo o maior produtor de café dos últimos 150 anos, além de ser classificado como uma economia de renda média-alta pelo banco mundial e como um país recentemente industrializado, que detém a maior parcela de riqueza global da américa do sul.']"
            ]
          },
          "metadata": {},
          "execution_count": 4
        }
      ]
    },
    {
      "cell_type": "markdown",
      "metadata": {
        "id": "65nR3LBTVmy0"
      },
      "source": [
        ">## 7. Funções de pré-processamento de entrada do usuário\n",
        "><p align=\"justify\">Cria funções para pré-processar as entradas do usuário, com retirada de  pontuações e uso de Stemming nos textos, para que palavras similares sejam processadas igualmente pelo algoritmo (por ex., pedra e pedregulho teriam mesma forma léxica).</p>"
      ]
    },
    {
      "cell_type": "code",
      "metadata": {
        "id": "FjMnCjqfVm6N"
      },
      "source": [
        "# Define funcao que faz Stemming em todo texto\n",
        "def stemming(tokens):\n",
        "  stemmer = nltk.stem.RSLPStemmer()\n",
        "  novotexto = []\n",
        "  for token in tokens:\n",
        "    novotexto.append(stemmer.stem(token.lower()))\n",
        "  return novotexto\n",
        "\n",
        "# Funcao que remove pontuacao\n",
        "removePontuacao = dict((ord(punctuation), None) for punctuation in string.punctuation)\n",
        "\n",
        "def preprocessa(documento):\n",
        "  return stemming(nltk.word_tokenize(documento.lower().translate(removePontuacao), language='portuguese'))"
      ],
      "execution_count": 5,
      "outputs": []
    },
    {
      "cell_type": "code",
      "metadata": {
        "id": "UysIjiIPW6nT",
        "colab": {
          "base_uri": "https://localhost:8080/"
        },
        "outputId": "ae53de1c-a5be-4cab-8689-8457bafadf3d"
      },
      "source": [
        "# Conferir como fica um texto apos seu pré-processamento\n",
        "preprocessa(\"Olá meu nome é Lucas, eu moro no Brasil, e você?\")"
      ],
      "execution_count": 6,
      "outputs": [
        {
          "output_type": "execute_result",
          "data": {
            "text/plain": [
              "['olá', 'meu', 'nom', 'é', 'luc', 'eu', 'mor', 'no', 'brasil', 'e', 'voc']"
            ]
          },
          "metadata": {},
          "execution_count": 6
        }
      ]
    },
    {
      "cell_type": "markdown",
      "metadata": {
        "id": "vUL4YvxMYMVc"
      },
      "source": [
        ">## 8. Resposta a saudações\n",
        "><p align=\"justify\">Embora seja um sistema de diálogo baseado em tarefas, é provável que o usuário inicie conversas com saudações ao agente. Por isso, será desenvolvida uma função (regras) para tratar desta situação.</p>  \n",
        "><p align=\"justify\">Serão criadas algumas respostas possíveis, dentre as quais serão escolhidas algumas aleatoriamente, para evitar que o agente fique repetitivo.</p>"
      ]
    },
    {
      "cell_type": "code",
      "metadata": {
        "id": "WJNLddZgYMeg"
      },
      "source": [
        "saudacoes_entrada = (\"olá\", \"bom dia\", \"boa tarde\", \"boa noite\", \"oi\", \"como vai\", \"e aí\", \"tudo bem\")\n",
        "saudacoes_respostas = [\"olá\", \"olá, espero que esteja tudo bem contigo\", \"oi\", \"Oie\", \"Seja bem-vindo, em que posso te ajudar?\"]\n",
        "\n",
        "def geradorsaudacoes(saudacao):\n",
        "  for token in saudacao.split():\n",
        "    if token.lower() in saudacoes_entrada:\n",
        "      return random.choice(saudacoes_respostas)"
      ],
      "execution_count": 7,
      "outputs": []
    },
    {
      "cell_type": "code",
      "metadata": {
        "id": "XzW0X0iLZjBU",
        "colab": {
          "base_uri": "https://localhost:8080/",
          "height": 35
        },
        "outputId": "8a3ab63b-3b14-492b-b3c6-f745a8ef65ed"
      },
      "source": [
        "# Ao executar este exemplo várias vezes serão vistas respostas diferenres\n",
        "geradorsaudacoes('Olá')"
      ],
      "execution_count": 12,
      "outputs": [
        {
          "output_type": "execute_result",
          "data": {
            "text/plain": [
              "'olá, espero que esteja tudo bem contigo'"
            ],
            "application/vnd.google.colaboratory.intrinsic+json": {
              "type": "string"
            }
          },
          "metadata": {},
          "execution_count": 12
        }
      ]
    },
    {
      "cell_type": "markdown",
      "metadata": {
        "id": "Z_gdo4tjZ3X4"
      },
      "source": [
        ">## 9. Resposta a consultas do usuário\n",
        "><p align=\"justify\">Função para tratar consultas do usuário, com a comparação da similaridade entre a entrada do usuário e as sentenças do corpus. Se houver, a sentença mais similar será mostrada como resposta.</p>\n",
        "><p align=\"justify\">Nesta função utilizam-se os algoritmos TD-IDF (<i>Term Frequency – Inverse Document Frequency</i>) e similaridade de cosseno.</p>"
      ]
    },
    {
      "cell_type": "code",
      "metadata": {
        "id": "zITJfxB0Z3ee"
      },
      "source": [
        "from sklearn.feature_extraction.text import TfidfVectorizer\n",
        "from sklearn.metrics.pairwise import cosine_similarity"
      ],
      "execution_count": 13,
      "outputs": []
    },
    {
      "cell_type": "code",
      "metadata": {
        "id": "DczIGmyUaPMr"
      },
      "source": [
        "def geradorrespostas(entradausuario):\n",
        "  resposta = ''\n",
        "  sentencas.append(entradausuario)\n",
        "\n",
        "  word_vectorizer = TfidfVectorizer(tokenizer=preprocessa, stop_words=stopwords.words('portuguese'))\n",
        "  all_word_vectors = word_vectorizer.fit_transform(sentencas)\n",
        "  similar_vector_values = cosine_similarity(all_word_vectors[-1], all_word_vectors)\n",
        "  similar_sentence_number = similar_vector_values.argsort()[0][-2]\n",
        "\n",
        "  matched_vector = similar_vector_values.flatten()\n",
        "  matched_vector.sort()\n",
        "  vector_matched = matched_vector[-2]\n",
        "\n",
        "  if vector_matched == 0:\n",
        "    resposta = resposta + \"Me desculpe, não entendi o que você pediu.\"\n",
        "    return resposta\n",
        "  else:\n",
        "    resposta = resposta + sentencas[similar_sentence_number]\n",
        "    return resposta"
      ],
      "execution_count": 14,
      "outputs": []
    },
    {
      "cell_type": "markdown",
      "metadata": {
        "id": "3VQILIt-bgJ8"
      },
      "source": [
        ">## 10. Interação com o agente de diálogo\n",
        "><p align=\"justify\">Define um algoritmo que continue interagindo com o usuário até que ele decida finalizar.</p>  \n",
        "><p align=\"justify\">O resultado não é sempre o ideal, porém cobre muitas das possíveis perguntas. Se utilizássemos apenas regras de diálogo para responder perguntas sobre um assunto, precisaríamos de centenas de regras.</p>\n",
        "><p align=\"justify\"> Como as respostas são baseadas em dados, apenas uma regra que calcula similaridade com o corpus é suficiente. Faça perguntas como:</p>  \n",
        "\n",
        ">*  *Qual o esporte mais popular no Brasil?*\n",
        ">*  *Quais eventos esportivos o Brasil já organizou?*\n",
        ">*  *Como é a cozinha brasileira?*\n",
        ">*  *Onde são realizadas pesquisas tecnológicas no Brasil?*\n"
      ]
    },
    {
      "cell_type": "code",
      "metadata": {
        "id": "VMIT3KygbgTe",
        "colab": {
          "base_uri": "https://localhost:8080/"
        },
        "outputId": "cc4cdb8d-05f0-41b0-e586-be55bed3ce6c"
      },
      "source": [
        "continue_dialogue = True\n",
        "print(\"Olá, eu sou o Agente Tupiniquim. Me pergunte qualquer coisa sobre nosso país.\")\n",
        "while (continue_dialogue == True):\n",
        "  # Obtem entrada do usuario\n",
        "  human_text = input().lower()\n",
        "\n",
        "  if human_text != 'tchau':\n",
        "    if human_text == 'obrigado' or human_text == 'muito obrigado' or human_text == 'agradecido':\n",
        "      continue_dialogue = False\n",
        "      print(\"Agente Tupiniquim: Disponha\")\n",
        "    else:\n",
        "      if geradorsaudacoes(human_text) != None:\n",
        "        print(\"Agente Tupiniquim: \" + geradorsaudacoes(human_text))\n",
        "      else:\n",
        "        print(\"Agente Tupiniquim: \", end=\"\")\n",
        "        print(geradorrespostas(human_text))\n",
        "        sentencas.remove(human_text)\n",
        "  else:\n",
        "    continue_dialogue = False\n",
        "    print(\"Agente Tupiniquim: Até a próxima.\")"
      ],
      "execution_count": null,
      "outputs": [
        {
          "output_type": "stream",
          "name": "stdout",
          "text": [
            "Olá, eu sou o Agente Tupiniquim. Me pergunte qualquer coisa sobre nosso país.\n",
            "Qual é o esporte mais popular do Brasil?\n",
            "Agente Tupiniquim: o futebol é o esporte mais popular no brasil.\n",
            "Quais eventos esportivos o Brasil já organizou?\n",
            "Agente Tupiniquim: no automobilismo, pilotos brasileiros ganharam o campeonato mundial de fórmula 1 oito vezes: emerson fittipaldi, em 1972 e 1974; nelson piquet, em 1981, 1983 e 1987; e ayrton senna, em 1988, 1990 e 1991. o circuito localizado em são paulo, autódromo josé carlos pace, organiza anualmente o grande prêmio do brasil de fórmula 1. o brasil já organizou eventos esportivos de grande escala: sediou as copas do mundo de 1950, na qual foi o vice-campeão, e 2014, quando ficou em quarto lugar.\n",
            "Como é a cozinha brasileira?\n",
            "Agente Tupiniquim: a cozinha brasileira varia muito de acordo com a região, refletindo a combinação de populações nativas e de imigrantes pelo país.\n",
            "Onde são realizadas pesquisas tecnológicas no Brasil?\n",
            "Agente Tupiniquim: a pesquisa tecnológica no brasil é em grande parte realizada em universidades públicas e institutos de pesquisa.\n",
            "Qual é o cantor mais famoso do Brasil?\n",
            "Agente Tupiniquim: em meados do século xvi, quando o açúcar de cana tornou-se o mais importante produto de exportação do brasil, os portugueses iniciaram a importação de escravos africanos, comprados nos mercados de escravos da áfrica ocidental.\n"
          ]
        }
      ]
    },
    {
      "cell_type": "markdown",
      "metadata": {
        "id": "0JMOce1PXp1h"
      },
      "source": [
        ">## 11. Como melhorar o projeto?\n",
        "><p align=\"justify\">Este agente de diálogo utiliza modelo baseado em regras, em que uma das regras usa corpus de dados para formular respostas. Desse modo, o modelo ficou mais flexível, sem necessidade de criar centenas/milhares de regras. Vejamos como melhorar o projeto:</p>  \n",
        "><p align=\"justify\">A) Além dos parágrafos (tag \"p\") da página da Wikipedia, podem ser usados dados dispostos na coluna direita, que trazem informações relevantes, como população, atual presidente etc., para montar sentenças.</p>  \n",
        "><p align=\"justify\">B) Melhorar o cálculo de similaridade com uso de um modelo de Word Embeddings, além do TF-IDF.</p>\n",
        "><p align=\"justify\">C) Obter dados sobre o Brasil a partir de diferentes fontes.</p>\n",
        "><p align=\"justify\">D) Criar classificador de contexto para o agente e, de modo dinâmico, buscar páginas da Wikipedia correspondentes à pergunta do usuário, para depois dar a resposta. Desse modo o agente não se limitaria a perguntas sobre o Brasil.</p>\n",
        "\n"
      ]
    },
    {
      "cell_type": "markdown",
      "metadata": {
        "id": "vP59ECc53nqF"
      },
      "source": [
        ">## 12. Referências e material complementar  \n",
        ">* [Python for NLP: Creating a Rule-Based Chatbot](https://stackabuse.com/python-for-nlp-creating-a-rule-based-chatbot/)\n",
        ">* [Building a Simple Chatbot from Scratch in Python (using NLTK)](https://morioh.com/p/6cc33336784c)\n",
        ">* [Building a simple chatbot in python](https://medium.com/nxtplus/building-a-simple-chatbot-in-python-3963618c490a)\n",
        ">* [Designing A ChatBot Using Python: A Modified Approach](https://towardsdatascience.com/designing-a-chatbot-using-python-a-modified-approach-96f09fd89c6d)\n",
        ">* [Build Your First Python Chatbot Project](https://dzone.com/articles/python-chatbot-project-build-your-first-python-pro)\n",
        ">* [Python Chatbot Project – Learn to build your first chatbot using NLTK & Keras](https://data-flair.training/blogs/python-chatbot-project/)\n",
        ">* [Python Chat Bot Tutorial - Chatbot with Deep Learning (Part 1)](https://www.youtube.com/watch?v=wypVcNIH6D4)\n",
        ">* [Intelligent AI Chatbot in Python](https://www.youtube.com/watch?v=1lwddP0KUEg)\n",
        ">* [Coding a Jarvis AI Using Python 3 For Beginners](https://www.youtube.com/watch?v=NZMTWBpLUa4)  \n",
        ">* Projeto elaborado a partir de Notebook criado por Prof. [Lucas Oliveira](http://lattes.cnpq.br/3611246009892500)."
      ]
    }
  ]
}